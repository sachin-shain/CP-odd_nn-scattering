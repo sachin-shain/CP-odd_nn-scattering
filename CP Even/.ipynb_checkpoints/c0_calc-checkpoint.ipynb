{
 "cells": [
  {
   "cell_type": "markdown",
   "id": "7405df5c",
   "metadata": {},
   "source": [
    "<center> <h1>Calculate $C_0$</h1> </center>\n",
    "\n",
    "---"
   ]
  },
  {
   "cell_type": "code",
   "execution_count": 1,
   "id": "19c98358",
   "metadata": {
    "scrolled": false
   },
   "outputs": [
    {
     "data": {
      "application/javascript": [
       "\n",
       "window.scroll_flag = true\n",
       "window.scroll_exit = false\n",
       "window.scroll_delay = 100\n",
       "\n",
       "$(\".output_scroll\").each(function() {\n",
       "    $(this)[0].scrollTop = $(this)[0].scrollHeight;\n",
       "});\n",
       "\n",
       "function callScrollToBottom() {\n",
       "    setTimeout(scrollToBottom, window.scroll_delay);\n",
       "}\n",
       "\n",
       "function scrollToBottom() {\n",
       "    if (window.scroll_exit) {\n",
       "        return;\n",
       "    }\n",
       "    if (!window.scroll_flag) {\n",
       "        callScrollToBottom();\n",
       "        return;\n",
       "    };\n",
       "    \n",
       "    $(\".output_scroll\").each(function() {\n",
       "        if (!$(this).attr('scroll_checkbox')){\n",
       "            window.scroll_flag = true;\n",
       "            $(this).attr('scroll_checkbox',true);\n",
       "            var div = document.createElement('div');\n",
       "            var checkbox = document.createElement('input');\n",
       "            checkbox.type = \"checkbox\";\n",
       "            checkbox.onclick = function(){window.scroll_flag = checkbox.checked}\n",
       "            checkbox.checked = \"checked\"\n",
       "            div.append(\"Auto-Scroll-To-Bottom: \");\n",
       "            div.append(checkbox);\n",
       "            $(this).parent().before(div);\n",
       "        }\n",
       "        \n",
       "        $(this)[0].scrollTop = $(this)[0].scrollHeight;\n",
       "    });\n",
       "    callScrollToBottom();\n",
       "}\n",
       "scrollToBottom();\n"
      ],
      "text/plain": [
       "<IPython.core.display.Javascript object>"
      ]
     },
     "metadata": {},
     "output_type": "display_data"
    }
   ],
   "source": [
    "%run LS.ipynb\n",
    "\n",
    "from IPython.display import clear_output\n",
    "from mpmath import csc\n",
    "from scipy.optimize import brentq, bisect\n",
    "from os.path import exists"
   ]
  },
  {
   "cell_type": "markdown",
   "id": "0bd407ea",
   "metadata": {},
   "source": [
    "### test functions for find_root"
   ]
  },
  {
   "cell_type": "code",
   "execution_count": 2,
   "id": "03cb6a2e",
   "metadata": {
    "scrolled": true
   },
   "outputs": [],
   "source": [
    "# # test graphs\n",
    "\n",
    "# fun_1 = lambda x: float(sin(x))\n",
    "# fun_2 = lambda x: float(csc(x))\n",
    "\n",
    "# gx=[]\n",
    "# gx.append(lambda i:fun_1(i+pi/2))\n",
    "# gx.append(lambda i:fun_1(i-pi/2))\n",
    "# gx.append(lambda i:fun_2(i+pi/2)+20)\n",
    "# gx.append(lambda i:fun_2(i-pi/2)+20)\n",
    "# gx.append(lambda i:fun_2(i-pi/2)-20)\n",
    "# gx.append(lambda i:fun_2(i+pi/2)-20)\n",
    "\n",
    "# clear_output(wait=True) # to clear the outputs\n",
    "# time.sleep(3) # to wait for 3 seconds, useful if the time between plots is too small. useful during testing stages."
   ]
  },
  {
   "cell_type": "code",
   "execution_count": 3,
   "id": "09fd5edc",
   "metadata": {
    "scrolled": true
   },
   "outputs": [],
   "source": [
    "def zero(n):\n",
    "    return [0 for i in range(n)]\n",
    "\n",
    "\n",
    "def draw_fun(fun1,a,b, div=20, vert_line2 = [0,False]):\n",
    "    \n",
    "    \n",
    "    x = []\n",
    "    y = []\n",
    "    zero = []\n",
    "    \n",
    "    for i in np.arange(a,b,(b-a)/div):\n",
    "        x.append(i)\n",
    "        y.append(fun1(i))\n",
    "        zero.append(0)\n",
    "    display(x,[y,zero],vert_line=vert_line2)"
   ]
  },
  {
   "cell_type": "markdown",
   "id": "fbe168c2",
   "metadata": {},
   "source": [
    "## finding root function"
   ]
  },
  {
   "cell_type": "code",
   "execution_count": 4,
   "id": "4691c6c3",
   "metadata": {
    "scrolled": true
   },
   "outputs": [],
   "source": [
    "# print1 : print the different stages of the function. \n",
    "# print2 : shows all the intermediate values and intermediate plots. \n",
    "'''\n",
    "return [flag, a, b,root,fun_root,condition]\n",
    "    flag : type of graph\n",
    "    (a,b) : intervel in which root lies\n",
    "    root  : root of the function\n",
    "    fun_root : fun(root)\n",
    "    condition : Does the fun_root lies below the required tolerence?\n",
    "'''\n",
    "\n",
    "def find_root(fun1, a, b, div=10, print1= False, print2=False,tol= 2e-8):\n",
    "\n",
    "\n",
    "    '''\n",
    "    Assumption: if function does not have a discontinuity, it should be monotonical.\n",
    "    if the funciton have a discontinuity, it is monotonical before and after the discontinuity.\n",
    "    '''\n",
    "        \n",
    "    ya = fun1(a)\n",
    "    yb = fun1(b)\n",
    "    \n",
    "    if print1:\n",
    "        print('------------inside function \"find_root\"----------------------------------\\n')\n",
    "        print('div = {:d}'.format(div))\n",
    "        print('a = {:3.3f}  ya = {:3.5f}'.format(a,ya))\n",
    "        print('b = {:3.3f}  yb = {:3.5f}'.format(b,yb),'\\n')\n",
    "        \n",
    "    # function is continuos. \n",
    "    if ya * yb <0:\n",
    "\n",
    "        if ya>0:                # flag = 1: monotonically decreasing\n",
    "            if print1:\n",
    "                print('flag = 1: monotonically decreasing\\n')\n",
    "            \n",
    "            flag = 1\n",
    "            root = brentq(fun1,a,b,xtol=tol)\n",
    "            fun_root = fun1(root)\n",
    "            condition = abs(fun_root)<tol*100\n",
    "            \n",
    "            if print2:\n",
    "                draw_fun(fun1,a,b,vert_line2=[root,True])\n",
    "            return [flag, a, b,root,fun_root,condition]\n",
    "        else:\n",
    "            flag = 2           # flag = 2: monotonically increasing\n",
    "            if print1:\n",
    "                print('flag = 2: monotonically increasing\\n')\n",
    "            root = brentq(fun1,a,b,xtol=tol)\n",
    "            fun_root = fun1(root)\n",
    "            condition = abs(fun_root)<tol*100\n",
    "            \n",
    "            if print2:\n",
    "                draw_fun(fun1,a,b,vert_line2=[root,True])\n",
    "                \n",
    "            return [flag, a, b,root,fun_root,condition]\n",
    "\n",
    "    interval = (b-a)/div\n",
    "\n",
    "    #===========================================================================\n",
    "    \n",
    "    c  = []\n",
    "    yc = []\n",
    "    \n",
    "    if ya > yb:\n",
    "        c_max_pre = a\n",
    "        yc_max_pre = ya\n",
    "        \n",
    "        c_min_pre =b\n",
    "        yc_min_pre = yb\n",
    "    else:\n",
    "        c_max_pre = b\n",
    "        yc_max_pre = yb\n",
    "        \n",
    "        c_min_pre =a\n",
    "        yc_min_pre = ya\n",
    "    \n",
    "    # entering for loop\n",
    "    if print2:\n",
    "        print('{:8}   {:12}   {:12}'.format('iteration','c1','yc1'))\n",
    "    \n",
    "    count1 = 1\n",
    "    for z in np.arange(a,b+interval ,interval):\n",
    "        \n",
    "        c1 = z\n",
    "        yc1 = fun1(z)\n",
    "        \n",
    "        c.append(c1)\n",
    "        yc.append(yc1)\n",
    "        \n",
    "        if print2:\n",
    "            print('{:8d}   {:3.8f}   {:3.8f}'.format(count1,c1,yc1))\n",
    "        \n",
    "        c1_pre = c1\n",
    "        yc1_pre = yc1\n",
    "        count1 +=1\n",
    "    \n",
    "    #===========================================================================\n",
    "    if print2:\n",
    "        print()\n",
    "        display(c,[yc,zero(len(c))])\n",
    "    yc_max = max(yc)\n",
    "    i_max = yc.index(yc_max)\n",
    "    c_max = c[i_max]\n",
    "    \n",
    "    yc_min = min(yc)\n",
    "    i_min = yc.index(yc_min)\n",
    "    c_min = c[i_min]\n",
    "\n",
    "    # condition 1: discontinuity detection failed. The funciton maxima and minima should be around the dscontunuity.\n",
    "\n",
    "    if not (yc_max > yc_max_pre and yc_min < yc_min_pre): # condition 1 not met, increase the div by 5 times\n",
    "\n",
    "        if print1:\n",
    "            print('Condition 1 : discontinuity detection failed. The funciton maxima and minima should be around the dscontunuity.')\n",
    "            print('Condition 1 did not meet, increasing the div by 5 times.\\n')\n",
    "        div_new = div*5\n",
    "        \n",
    "        if div_new>500:\n",
    "            print('something went wrong while finding the root.')\n",
    "            flag = 0\n",
    "            return [flag,a,b,0,100,False]\n",
    "        return find_root(fun1,a,b,div_new,print1,print2,tol)\n",
    "\n",
    "    # condition 2: discontunity detection sucess. But all points in the above/below x-axis.\n",
    "\n",
    "    if yc_min >0 or yc_max <0:\n",
    "        if print1:\n",
    "            print('discontunity detection sucess. But all points in the above/below x-axis.')\n",
    "        if c_max < c_min:\n",
    "            if print1:\n",
    "                print('function maxima on left of discontinuity. zooming in on discontinuity to get ymax>0 and ymin<0.\\n')\n",
    "            a1 = c[i_max-1]\n",
    "            b1 = c[i_min+1]\n",
    "            return find_root(fun1,a1,b1,div,print1,print2,tol)\n",
    "        else:\n",
    "            if print1:\n",
    "                print('function maxima on right of discontinuity. zooming in on discontinuity to get ymax>0 and ymin<0.\\n')\n",
    "            a1 = c[i_min-1]\n",
    "            b1 = c[i_max+1]\n",
    "            return find_root(fun1,a1,b1,div,print1,print2,tol)\n",
    "    #===========================================================================\n",
    "\n",
    "    # discontinuity lies btween a and b, and ymax > 0 and ymin < 0.\n",
    "    if ya>0:\n",
    "    \n",
    "        if c_max < c_min:\n",
    "            flag = 3        # flag 3: minima is right of discontinuity and fun is increasing on the right. ==> root lies on the right of minima .\n",
    "            if print1:\n",
    "                print('flag 3: minima is right of discontinuity and fun is increasing on the right. ==> root lies on the right of minima\\n')\n",
    "            a1 = c_min\n",
    "\n",
    "            for i in range(i_min,len(c)):\n",
    "                if yc[i]>0:\n",
    "                    b1 = c[i]\n",
    "                    break\n",
    "            root = brentq(fun1,a1,b1,xtol=tol)\n",
    "            fun_root = fun1(root)\n",
    "            condition = abs(fun_root)<tol*100\n",
    "            if print2:\n",
    "                display(c,[yc,zero(len(c))],vert_line=[root,True])\n",
    "            return [flag, a1, b1,root,fun_root,condition]\n",
    "        else:\n",
    "            flag = 4     # flag 4: minima is left of discontinuity and fun is decreasing on the left. ==> root lies on the left of minima .\n",
    "            if print1:\n",
    "                print('flag 4: minima is left of discontinuity and fun is decreasing on the left. ==> root lies on the left of minima .\\n')\n",
    "            b1 = c_min\n",
    "            for i in range(i_min,0,-1):\n",
    "                if yc[i]>0:\n",
    "                    a1 = c[i]\n",
    "                    break\n",
    "            root = brentq(fun1,a1,b1,xtol=tol)\n",
    "            fun_root = fun1(root)\n",
    "            condition = abs(fun_root)<tol*100\n",
    "            if print2:\n",
    "                display(c,[yc,zero(len(c))],vert_line=[root,True])\n",
    "            return [flag, a1, b1,root,fun_root,condition]\n",
    "    else:\n",
    "        if c_max < c_min:\n",
    "            flag = 5    # flag 5: maxima is left of discontinuity and fun is increasing on the left. ==> root lies on the left of maxima .\n",
    "            if print1:\n",
    "                print('flag 5: maxima is left of discontinuity and fun is increasing on the left. ==> root lies on the left of maxima .\\n')\n",
    "            b1 = c_max\n",
    "            for i in range(i_max,0,-1):\n",
    "                if yc[i]<0:\n",
    "                    a1 = c[i]\n",
    "                    break\n",
    "            root = brentq(fun1,a1,b1,xtol=tol)\n",
    "            fun_root = fun1(root)\n",
    "            condition = abs(fun_root)<tol*100\n",
    "            if print2:\n",
    "                display(c,[yc,zero(len(c))],vert_line=[root,True])\n",
    "            return [flag, a1, b1,root,fun_root,condition]\n",
    "        else:\n",
    "            flag = 6    # flag 6: maxima is right of discontinuity and fun is decreasing on the right. ==> root lies on the right of maxima .\n",
    "            if print1:\n",
    "                print('flag 6: maxima is right of discontinuity and fun is decreasing on the right. ==> root lies on the right of maxima .\\n')\n",
    "            a1 = c_max\n",
    "            for i in range(i_max,len(c)):\n",
    "                if yc[i]<0:\n",
    "                    b1 = c[i]\n",
    "                    break\n",
    "            root = brentq(fun1,a1,b1,xtol=tol)\n",
    "            fun_root = fun1(root)\n",
    "            condition = abs(fun_root)<tol*100\n",
    "            if print2:\n",
    "                display(c,[yc,zero(len(c))],vert_line=[root,True])\n",
    "            return [flag, a1, b1,root,fun_root,condition]\n",
    "\n",
    "\n"
   ]
  },
  {
   "cell_type": "code",
   "execution_count": 5,
   "id": "a9737fcd",
   "metadata": {
    "scrolled": false
   },
   "outputs": [],
   "source": [
    "# # Example\n",
    "\n",
    "\n",
    "# for i in range(2,6):\n",
    "#     funt = gx[i]\n",
    "    \n",
    "#     a, b = 0.01,pi*.999\n",
    "\n",
    "#     [flag, a, b,root,fun_root,condition]= find_root(funt,a,b)\n",
    "    \n",
    "#     draw_fun(gx[i],root-.5,root+.5,div=50,vert_line2=[root,True])\n",
    "    \n",
    "#     sol_name = ['a','b','root','f(root)','Tolerence achieved']\n",
    "#     sol = round_n([a,b,root,fun_root])\n",
    "    \n",
    "#     for i in range(4):\n",
    "#         print('{:19} : {}'.format(sol_name[i],sol[0,i]))\n",
    "#     print('{:19} : {}'.format(sol_name[4],condition))\n",
    "#     print('**'*20,'\\n')"
   ]
  },
  {
   "cell_type": "markdown",
   "id": "e3e0e7db",
   "metadata": {},
   "source": [
    "## finding counter term"
   ]
  },
  {
   "cell_type": "code",
   "execution_count": 6,
   "id": "33d75917",
   "metadata": {
    "scrolled": true
   },
   "outputs": [],
   "source": [
    "class c0_calc:\n",
    "    \n",
    "    folder = 'c0/c0_'\n",
    "    \n",
    "    def __init__(self,phase_list, delta, a, b,elab,lam_div = 1):\n",
    "        \n",
    "        self.phase_list = phase_list\n",
    "        self.delta = delta\n",
    "        self.a = a\n",
    "        self.b = b\n",
    "        self.elab = elab\n",
    "        self.lam_div = lam_div\n",
    "        \n",
    "        self.q0 = sqrt( self.elab * m_n * .5)\n",
    "        \n",
    "        \n",
    "        # create filename based on channel\n",
    "        \n",
    "        self.filename = ''\n",
    "        for i in phase_list:\n",
    "            self.filename += phase_name(*i)+'_'\n",
    "        self.filename+='.csv'\n",
    "    \n",
    "        self.name = self.folder+self.filename\n",
    "        \n",
    "        # if data file exits, it reads. \n",
    "        # Otherwise use 'find_root' to calculate c0(lambda) and make the .csv file\n",
    "        \n",
    "        if exists(self.name):\n",
    "            self.df_1 = pd.read_csv(self.name,index_col=None)\n",
    "            self.dict_1 = self.df_1.to_dict('list')\n",
    "        else:\n",
    "            self._write(self.lam_div)\n",
    "    \n",
    "    # to calculate root even if data file exists\n",
    "    def overwrite(self,div_1 = 10):\n",
    "        self._write(div_1)\n",
    "        \n",
    "    # to calcualte c0(lambda)\n",
    "    def _write(self,div_1):\n",
    "        \n",
    "        # return d0-d0_experiment\n",
    "        def fun(c0,lam):\n",
    "\n",
    "            Vtensor0  = Vtensor_calc(self.phase_list)\n",
    "            Vtensor   = Vtensor_q0_calc(self.phase_list, Vtensor0, self.q0)\n",
    "\n",
    "            list_1 = phase_shift_calc(self.phase_list, c0, self.q0, Vtensor, lam)\n",
    "\n",
    "            return list_1[0]-delta\n",
    "    \n",
    "        #############################################################################\n",
    "        \n",
    "        print('Calculating c0 for : ',end='')\n",
    "        for phase1 in self.phase_list:\n",
    "            print(phase_name(*phase1),end=', ')\n",
    "        print('a = {:5.2f}  b = {:5.2f}   delta0 = {:5.2f}   elab = {:5.2f}\\n\\n'.format(self.a, self.b,self.delta,self.elab))\n",
    "\n",
    "        self.dict_1 = {}\n",
    "\n",
    "        lam_list = []\n",
    "        c0_list = []\n",
    "    \n",
    "    \n",
    "    #==============================================================\n",
    "    \n",
    "    \n",
    "    \n",
    "        for lam in lambda_values:\n",
    "\n",
    "            [flag, x1, x2,root,fun_root,condition]=find_root(lambda c0: fun(c0,lam),self.a,self.b,print1=True,print2=True)\n",
    "            \n",
    "            print('     {:8}{:8}{:11}{:10}'.format('lam','x0','f(x0)','phase_shift'))\n",
    "            print('{:8.1f}{:8.2f}{:12.2e}{:10.3f}'.format(lam,root,fun_root,fun_root+self.delta))\n",
    "            \n",
    "            # if tolerence is below 10**-4, skips the lambda value. \n",
    "            if not condition and abs(fun_root)>10**-4:\n",
    "                continue            \n",
    "\n",
    "            lam_list.append(lam)\n",
    "            c0_list.append(root)\n",
    "            \n",
    "            print('\\n','**'*20,'\\n')\n",
    "            \n",
    "        print('\\n\\n     {:8}{:8}{:11}{:10}'.format('lam','c0','f(c0)','phase_shift'))\n",
    "        \n",
    "        for i in range(len(lam_list)):\n",
    "            lam = lam_list[i]\n",
    "            c0 = c0_list[i]\n",
    "            \n",
    "            print('{:8.1f}{:8.2f}{:12.2e}{:10.3f}'.format(lam, c0,fun(c0,lam),fun(c0,lam)+self.delta))\n",
    "        \n",
    "        print('\\n\\n')\n",
    "        \n",
    "        self.dict_1['lam'] = lam_list\n",
    "        self.dict_1['c0']=c0_list\n",
    "        \n",
    "        \n",
    "        self.df_1 = pd.DataFrame(self.dict_1)\n",
    "        self.df_1.to_csv(self.name, header=True,index=False)\n",
    "\n",
    "    # to plot from the data file\n",
    "    def plot(self):\n",
    "        \n",
    "        lam_list = self.dict_1['lam']\n",
    "        c0_list = self.dict_1['c0']\n",
    "        \n",
    "        \n",
    "        display(lam_list,[c0_list],label_xy=['lam',self.filename])\n",
    "    \n",
    "    # to get the data file\n",
    "    def get(self):\n",
    "        return self.dict_1\n",
    "        \n",
    "        "
   ]
  },
  {
   "cell_type": "markdown",
   "id": "184743c3",
   "metadata": {},
   "source": [
    "## c0 list\n",
    "\n",
    "### 1S0"
   ]
  },
  {
   "cell_type": "code",
   "execution_count": 7,
   "id": "7ad81f16",
   "metadata": {
    "scrolled": false
   },
   "outputs": [
    {
     "name": "stdout",
     "output_type": "stream",
     "text": [
      "C0 calc for channels :  1S0 \n",
      "Elab            : 10.0\n",
      "delta_0         : 59.9564\n",
      "(a,b)           : (-60.0,50.0)\n",
      "\n"
     ]
    },
    {
     "data": {
      "image/png": "[encoded data removed]",
      "text/plain": [
       "<Figure size 640x480 with 1 Axes>"
      ]
     },
     "metadata": {},
     "output_type": "display_data"
    },
    {
     "name": "stdout",
     "output_type": "stream",
     "text": [
      "CPU times: user 217 ms, sys: 109 ms, total: 326 ms\n",
      "Wall time: 138 ms\n"
     ]
    }
   ],
   "source": [
    "%%time\n",
    "\n",
    "phase_list  = [[0,0,0]]\n",
    "elab        = 10.\n",
    "delta       = 59.9564\n",
    "a           = -60.\n",
    "b           = 50.\n",
    "\n",
    "p_wave = [phase_name(*phase) for phase in phase_list]\n",
    "channel = ''\n",
    "for phase in p_wave:\n",
    "    channel+= phase + \" \"\n",
    "print('C0 calc for channels : ',channel)\n",
    "print('{:15} : {}'.format('Elab',elab))\n",
    "print('{:15} : {}'.format('delta_0',delta))\n",
    "print('{:15} : ({},{})\\n'.format('(a,b)',a,b))\n",
    "\n",
    "c0_1s0 = c0_calc(phase_list, delta, a, b,elab)\n",
    "\n",
    "c0_1s0.plot()"
   ]
  },
  {
   "cell_type": "markdown",
   "id": "16499698",
   "metadata": {},
   "source": [
    "### 3P0"
   ]
  },
  {
   "cell_type": "code",
   "execution_count": 8,
   "id": "679578fc",
   "metadata": {
    "scrolled": false
   },
   "outputs": [
    {
     "name": "stdout",
     "output_type": "stream",
     "text": [
      "C0 calc for channels :  3P0 \n",
      "Elab            : 10.0\n",
      "delta_0         : 3.6528\n",
      "(a,b)           : (-400.0,400.0)\n",
      "\n"
     ]
    },
    {
     "data": {
      "image/png": "[encoded data removed]",
      "text/plain": [
       "<Figure size 640x480 with 1 Axes>"
      ]
     },
     "metadata": {},
     "output_type": "display_data"
    },
    {
     "name": "stdout",
     "output_type": "stream",
     "text": [
      "CPU times: user 219 ms, sys: 112 ms, total: 330 ms\n",
      "Wall time: 172 ms\n"
     ]
    }
   ],
   "source": [
    "%%time\n",
    "\n",
    "phase_list  = [[1,1,0]]\n",
    "elab        = 10.\n",
    "delta       = 3.6528\n",
    "a           = -400.\n",
    "b           = 400.\n",
    "\n",
    "p_wave = [phase_name(*phase) for phase in phase_list]\n",
    "channel = ''\n",
    "for phase in p_wave:\n",
    "    channel+= phase + \" \"\n",
    "print('C0 calc for channels : ',channel)\n",
    "print('{:15} : {}'.format('Elab',elab))\n",
    "print('{:15} : {}'.format('delta_0',delta))\n",
    "print('{:15} : ({},{})\\n'.format('(a,b)',a,b))\n",
    "\n",
    "c0_3p0 = c0_calc(phase_list, delta, a, b,elab)\n",
    "c0_3p0.plot()"
   ]
  },
  {
   "cell_type": "markdown",
   "id": "c8821fa0",
   "metadata": {},
   "source": [
    "### 3S1-3D1"
   ]
  },
  {
   "cell_type": "code",
   "execution_count": 9,
   "id": "4dbb09b7",
   "metadata": {
    "scrolled": true
   },
   "outputs": [
    {
     "name": "stdout",
     "output_type": "stream",
     "text": [
      "C0 calc for channels :  3S1 3D1 \n",
      "Elab            : 10.0\n",
      "delta_0         : 102.6114\n",
      "(a,b)           : (-8000.0,8000.0)\n",
      "\n"
     ]
    },
    {
     "data": {
      "image/png": "[encoded data removed]",
      "text/plain": [
       "<Figure size 640x480 with 1 Axes>"
      ]
     },
     "metadata": {},
     "output_type": "display_data"
    },
    {
     "name": "stdout",
     "output_type": "stream",
     "text": [
      "CPU times: user 244 ms, sys: 54.1 ms, total: 298 ms\n",
      "Wall time: 175 ms\n"
     ]
    }
   ],
   "source": [
    "%%time\n",
    "\n",
    "phase_list  = [[1,0,1],[1,2,1]]\n",
    "elab        = 10.\n",
    "delta       = 102.6114     # 102.6114   if d0<0, d0 = d0 + 180, d0 -77.3886\n",
    "a           = -8000.         # sachin\n",
    "b           = 8000.\n",
    "\n",
    "p_wave = [phase_name(*phase) for phase in phase_list]\n",
    "channel = ''\n",
    "for phase in p_wave:\n",
    "    channel+= phase + \" \"\n",
    "print('C0 calc for channels : ',channel)\n",
    "print('{:15} : {}'.format('Elab',elab))\n",
    "print('{:15} : {}'.format('delta_0',delta))\n",
    "print('{:15} : ({},{})\\n'.format('(a,b)',a,b))\n",
    "\n",
    "c0_3s1 = c0_calc(phase_list, delta, a, b,elab)\n",
    "\n",
    "c0_3s1.plot()"
   ]
  },
  {
   "cell_type": "markdown",
   "id": "ef6c00ad",
   "metadata": {},
   "source": [
    "## To update the reference file"
   ]
  },
  {
   "cell_type": "code",
   "execution_count": 11,
   "id": "ea290416",
   "metadata": {},
   "outputs": [
    {
     "name": "stdout",
     "output_type": "stream",
     "text": [
      "pot_even_dict._cache is same or smaller than the reference file. No action required.\n"
     ]
    }
   ],
   "source": [
    "if len(Vtensor_ref) < len(pot_even_dict.read()):\n",
    "    print('pot_even_dict._cache is larger than the reference file. Updating the reference file.')\n",
    "    pot_even_dict.write()\n",
    "else:\n",
    "     print('pot_even_dict._cache is same or smaller than the reference file. No action required.')\n",
    "    "
   ]
  },
  {
   "cell_type": "code",
   "execution_count": null,
   "id": "695865d3",
   "metadata": {},
   "outputs": [],
   "source": []
  }
 ],
 "metadata": {
  "kernelspec": {
   "display_name": "Python 3 (ipykernel)",
   "language": "python",
   "name": "python3"
  },
  "language_info": {
   "codemirror_mode": {
    "name": "ipython",
    "version": 3
   },
   "file_extension": ".py",
   "mimetype": "text/x-python",
   "name": "python",
   "nbconvert_exporter": "python",
   "pygments_lexer": "ipython3",
   "version": "3.7.13"
  },
  "vscode": {
   "interpreter": {
    "hash": "3d831f84a963224349942d9e0b0fc8eb5d2b898284165732de07d954020c9468"
   }
  }
 },
 "nbformat": 4,
 "nbformat_minor": 5
}
