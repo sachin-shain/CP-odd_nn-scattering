{
 "cells": [
  {
   "cell_type": "markdown",
   "id": "e3f27b83",
   "metadata": {},
   "source": [
    "## $$V_{strong} = -\\left(\\frac{g_A}{2 F_\\pi} \\right)^2 \\frac{(\\sigma_1\\cdot q)(\\sigma_2\\cdot q)}{q^2 + m_\\pi^2}$$\n",
    "---"
   ]
  },
  {
   "cell_type": "code",
   "execution_count": 33,
   "id": "17fff0e2",
   "metadata": {},
   "outputs": [
    {
     "data": {
      "application/javascript": [
       "\n",
       "window.scroll_flag = true\n",
       "window.scroll_exit = false\n",
       "window.scroll_delay = 100\n",
       "\n",
       "$(\".output_scroll\").each(function() {\n",
       "    $(this)[0].scrollTop = $(this)[0].scrollHeight;\n",
       "});\n",
       "\n",
       "function callScrollToBottom() {\n",
       "    setTimeout(scrollToBottom, window.scroll_delay);\n",
       "}\n",
       "\n",
       "function scrollToBottom() {\n",
       "    if (window.scroll_exit) {\n",
       "        return;\n",
       "    }\n",
       "    if (!window.scroll_flag) {\n",
       "        callScrollToBottom();\n",
       "        return;\n",
       "    };\n",
       "    \n",
       "    $(\".output_scroll\").each(function() {\n",
       "        if (!$(this).attr('scroll_checkbox')){\n",
       "            window.scroll_flag = true;\n",
       "            $(this).attr('scroll_checkbox',true);\n",
       "            var div = document.createElement('div');\n",
       "            var checkbox = document.createElement('input');\n",
       "            checkbox.type = \"checkbox\";\n",
       "            checkbox.onclick = function(){window.scroll_flag = checkbox.checked}\n",
       "            checkbox.checked = \"checked\"\n",
       "            div.append(\"Auto-Scroll-To-Bottom: \");\n",
       "            div.append(checkbox);\n",
       "            $(this).parent().before(div);\n",
       "        }\n",
       "        \n",
       "        $(this)[0].scrollTop = $(this)[0].scrollHeight;\n",
       "    });\n",
       "    callScrollToBottom();\n",
       "}\n",
       "scrollToBottom();\n"
      ],
      "text/plain": [
       "<IPython.core.display.Javascript object>"
      ]
     },
     "metadata": {},
     "output_type": "display_data"
    }
   ],
   "source": [
    "%run init_.ipynb\n",
    "\n",
    "from scipy.special import legendre"
   ]
  },
  {
   "cell_type": "markdown",
   "id": "66c3489c",
   "metadata": {},
   "source": [
    "### $g_n^f(p',p) = \\int_{-1}^1 dx P_n (x) F_f(q(x,p',p)) $\n",
    "\n",
    "where,\n",
    "### $F_f[q(x,p',p)] = \\frac{q^{2-f}}{q^2 + m_\\pi^2}, \\hspace{1cm} q(x,p',p) = \\sqrt{p'^2 + p^2 - 2 p' p x}$"
   ]
  },
  {
   "cell_type": "code",
   "execution_count": 34,
   "id": "ca1d7be5",
   "metadata": {},
   "outputs": [],
   "source": [
    "def g_fun(f,n,i1,i2):\n",
    "    p1 = pgrid[i1]\n",
    "    p2 = pgrid[i2]\n",
    "    \n",
    "    Pn = lambda x : legendre(n)(x)\n",
    "    q_fun = lambda x : sqrt(p1**2 + p2**2 - 2* p1* p2*x)\n",
    "    Fun = lambda x : q_fun(x)**(2-f)/(q_fun(x)**2 + mpi**2)\\\n",
    "    \n",
    "    return quad(lambda x: Pn(x) * Fun(x),-1,1)[0]    "
   ]
  },
  {
   "cell_type": "code",
   "execution_count": 35,
   "id": "5b02dabc",
   "metadata": {},
   "outputs": [
    {
     "data": {
      "text/plain": [
       "3.3100878361917796e-08"
      ]
     },
     "execution_count": 35,
     "metadata": {},
     "output_type": "execute_result"
    }
   ],
   "source": [
    "# Example\n",
    "\n",
    "g_fun(2,2,Np-1,Np-2)"
   ]
  },
  {
   "cell_type": "markdown",
   "id": "f4235f9e",
   "metadata": {},
   "source": [
    "### $V(p',p) = \\langle p; (l',s')j'm_j';t' m_t'|V_{strong}|p;(ls)jm_j;tm_t \\rangle $"
   ]
  },
  {
   "cell_type": "code",
   "execution_count": 36,
   "id": "aea79625",
   "metadata": {},
   "outputs": [],
   "source": [
    "# OPE potential\n",
    "\n",
    "def pot_even(s1,l1,j1,s2,l2,j2,i1,i2):\n",
    "    \n",
    "    A_even  = - (gA/(2 * fpi))**2 * (2*pi)**-3\n",
    "    \n",
    "    t1 = (l1+s1+1)%2\n",
    "    t2 = (l2+s2+1)%2\n",
    "    mt1 = 1\n",
    "    mt2 = 1\n",
    "    mj1 = 1\n",
    "    mj2 = 1\n",
    "    \n",
    "    p1 = pgrid[i1]\n",
    "    p2 = pgrid[i2]\n",
    "    \n",
    "    # one-pion exchange\n",
    "    \n",
    "    if j1==j2 and mj1==mj2 and t1==t2 and mt1==mt2:\n",
    "        pre_factor = A_even *  12 * pi * (-1)**l1 * (4 * t1 -3) * sqrt(h(s1) * h(s2) * h(j1))\n",
    "    else:\n",
    "        return 0\n",
    "    \n",
    "    def n_sum(lam1,lam2,f):\n",
    "        \n",
    "        n_min = max(abs(lam1 -l1),abs(lam2-l2))\n",
    "        n_max = min(lam1+l1,lam2+l2)\n",
    "        \n",
    "        ans_n = 0\n",
    "        \n",
    "        \n",
    "        for n in range(n_min,n_max+1):\n",
    "            ans_n += (-1)**n * h(n)**(3/2) * g_fun(f,n,i1,i2) * \\\n",
    "                    w9j(n,n,0,lam1,lam2,f,l1,l2,f) * \\\n",
    "                    coeff(n,lam1,l1,0,0,0) * coeff(n,lam2,l2,0,0,0)\n",
    "        return ans_n\n",
    "    \n",
    "    def lam_sum(f):\n",
    "        \n",
    "        ans_lam = 0\n",
    "        \n",
    "        for lam1 in range(f+1):\n",
    "            \n",
    "            lam2 = f -lam1\n",
    "            \n",
    "            ans_lam += sqrt((fact(h(f)))/(fact(h(lam1))*fact(h(lam2)))) * \\\n",
    "                        p1**lam1 * (-p2)**lam2 * sqrt(h(lam1) * h(lam2)) * n_sum(lam1,lam2,f)\n",
    "        return ans_lam\n",
    "    \n",
    "    def f_sum():\n",
    "        \n",
    "        ans_f = 0\n",
    "        \n",
    "        for f in range(3):\n",
    "            \n",
    "            ans_f += h(f)**(3/2) * w9j(l2, l1, f, s2, s1, f, j1, j1, 0) * \\\n",
    "                    w9j(1/2,1/2,1,1/2,1/2,1,s2,s1,f) * coeff(1,1,f,0,0,0) * lam_sum(f)\n",
    "        return ans_f\n",
    "    \n",
    "    ans_one_pion = pre_factor * f_sum()\n",
    "        \n",
    "    return ans_one_pion"
   ]
  },
  {
   "cell_type": "code",
   "execution_count": 37,
   "id": "597cb4f9",
   "metadata": {},
   "outputs": [
    {
     "name": "stdout",
     "output_type": "stream",
     "text": [
      "[[0, 1, 1], [1, 0, 1], [1, 1, 1], [1, 2, 1]]\n",
      "\n",
      "1P1  -  1P1 : 2.1235764580442723e-07\n",
      "3S1  -  3S1 : 2.26985217850906e-06\n",
      "3S1  -  3D1 : 1.7551873991169141e-06\n",
      "3P1  -  3P1 : 1.170319030218112e-06\n",
      "3D1  -  3S1 : 1.7551873991169156e-06\n",
      "3D1  -  3D1 : 1.0287472663411177e-06\n"
     ]
    }
   ],
   "source": [
    "# Example              \n",
    "\n",
    "phase_list = phase_dict[1]\n",
    "print(phase_list)\n",
    "print()\n",
    "for phase1 in phase_list:\n",
    "    for phase2 in phase_list:\n",
    "        [s1,l1,j1] = phase1\n",
    "        [s2,l2,j2] = phase2\n",
    "\n",
    "        t1 = pot_even(s1,l1,j1,s2,l2,j2,int(Np/2),int(Np/2))\n",
    "\n",
    "        if t1!=0 :\n",
    "            print('{}  -  {} : {}'.format(phase_name(s1,l1,j1),phase_name(s2,l2,j2),t1 ))"
   ]
  },
  {
   "cell_type": "markdown",
   "id": "340e0626",
   "metadata": {},
   "source": [
    "## $V_{(N_p+1)\\times(N_p+1)}$"
   ]
  },
  {
   "cell_type": "code",
   "execution_count": 38,
   "id": "fde9cd88",
   "metadata": {},
   "outputs": [],
   "source": [
    "# OPE potential in momentem grid space\n",
    "\n",
    "class pot_even_Dictionary:\n",
    "    \n",
    "    def __init__(self):\n",
    "        self._cache = Vtensor_ref\n",
    "\n",
    "    def __call__(self, *args):\n",
    "        res = self._cache.get(args, None)  # return None if args keyword does not exist\n",
    "        if res is None:\n",
    "            res =  pot_even(*[S(i)  for i in args])\n",
    "            self._cache[args] = res\n",
    "        \n",
    "        return res\n",
    "    \n",
    "    def read(self):\n",
    "        return self._cache\n",
    "    \n",
    "pot_even_dict = pot_even_Dictionary()"
   ]
  },
  {
   "cell_type": "code",
   "execution_count": 39,
   "id": "512207f5",
   "metadata": {},
   "outputs": [],
   "source": [
    "# # Example \n",
    "\n",
    "# s1, l1, j1 = 1,0,1\n",
    "# s2,l2,j2 = 1,0,1\n",
    "# a1 = pot_even_dict(s1,l1,j1,s2,l2,j2,int(Np/2),int(Np/2))\n",
    "# a2 = pot_even(s1,l1,j1,s2,l2,j2,int(Np/2),int(Np/2))\n",
    "\n",
    "# print(a1)\n",
    "# print(a2)\n",
    "# print(equal(a1,a2))"
   ]
  },
  {
   "cell_type": "markdown",
   "id": "ef46996d",
   "metadata": {},
   "source": [
    "### uncoupled phase"
   ]
  },
  {
   "cell_type": "code",
   "execution_count": 40,
   "id": "7478aa3d",
   "metadata": {},
   "outputs": [],
   "source": [
    "# Vtensor without q0\n",
    "\n",
    "def V_one_pion(s1,l1,j1,s2,l2,j2):\n",
    "    \n",
    "    Vtensor = {}\n",
    "\n",
    "    for i1 in range(Np):        \n",
    "        for i2 in range(Np):\n",
    "            \n",
    "            \n",
    "            vtemp = pot_even_dict(s1,l1,j1,s2,l2,j2,i1,i2)\n",
    "\n",
    "            Vtensor[s1, l1, j1, s2, l2, j2, i1, i2] = vtemp\n",
    "\n",
    "\n",
    "    return Vtensor\n",
    "\n",
    "# Vtensor with q0 (so that when we change q0, we only need to do this code.)\n",
    "\n",
    "def V_one_pion_q0(s1,l1,j1,s2,l2,j2,Vtensor,q0):\n",
    "\n",
    "    pgrid[Np] = q0\n",
    "    \n",
    "    for i1 in range(Np):\n",
    "        \n",
    "        vtemp = pot_even_dict(s1,l1,j1,s2,l2,j2,i1,Np)\n",
    "        Vtensor[s1,l1,j1,s2,l2,j2,i1,Np] = vtemp\n",
    "        \n",
    "        vtemp = pot_even_dict(s1,l1,j1,s2,l2,j2,Np,i1)\n",
    "        Vtensor[s1,l1,j1,s2,l2,j2,Np,i1] = vtemp\n",
    "        \n",
    "    Vtensor[s1,l1,j1,s2,l2,j2,Np,Np] = pot_even_dict(s1,l1,j1,s2,l2,j2,Np,Np)\n",
    "    \n",
    "    return Vtensor"
   ]
  },
  {
   "cell_type": "code",
   "execution_count": 41,
   "id": "a428f166",
   "metadata": {},
   "outputs": [
    {
     "name": "stdout",
     "output_type": "stream",
     "text": [
      "Vtensor0:\n",
      "   s1  l1  j1  s2  l2  j2  p_grid 1  p_grid 2                 value\n",
      "0   1   0   1   1   0   1         0         0  4.650e-13 + i 0.e+00\n",
      "1   1   0   1   1   0   1         0         1  6.692e-12 + i 0.e+00\n",
      "2   1   0   1   1   0   1         0         2   3.93e-11 + i 0.e+00\n",
      "3   1   0   1   1   0   1         0         3  1.351e-10 + i 0.e+00\n",
      "4   1   0   1   1   0   1         0         4  3.478e-10 + i 0.e+00\n",
      "\n",
      " len =  25600\n",
      "\n",
      "----------------------------\n",
      "\n",
      "Vtensor:\n",
      "   s1  l1  j1  s2  l2  j2  p_grid 1  p_grid 2                 value\n",
      "0   1   0   1   1   0   1         0         0  4.650e-13 + i 0.e+00\n",
      "1   1   0   1   1   0   1         0         1  6.692e-12 + i 0.e+00\n",
      "2   1   0   1   1   0   1         0         2   3.93e-11 + i 0.e+00\n",
      "3   1   0   1   1   0   1         0         3  1.351e-10 + i 0.e+00\n",
      "4   1   0   1   1   0   1         0         4  3.478e-10 + i 0.e+00\n",
      "\n",
      " len =  25921\n"
     ]
    }
   ],
   "source": [
    "# Example\n",
    "\n",
    "s1, l1, j1 = 1,0,1\n",
    "s2,l2,j2 = 1,0,1\n",
    "\n",
    "\n",
    "print('Vtensor0:')\n",
    "Vtensor0 = V_one_pion(s1,l1,j1,s2,l2,j2)\n",
    "\n",
    "print_(Vtensor0)\n",
    "print('\\n len = ',len(Vtensor0.keys()))\n",
    "\n",
    "print('\\n----------------------------\\n')\n",
    "\n",
    "print('Vtensor:')\n",
    "Vtensor = V_one_pion_q0(s1,l1,j1,s2,l2,j2,Vtensor0,q0=10)\n",
    "\n",
    "print_(Vtensor)\n",
    "print('\\n len = ',len(Vtensor))"
   ]
  },
  {
   "cell_type": "markdown",
   "id": "7a062a25",
   "metadata": {},
   "source": [
    "### coupled phases"
   ]
  },
  {
   "cell_type": "code",
   "execution_count": 42,
   "id": "e1aa6a26",
   "metadata": {},
   "outputs": [],
   "source": [
    "#Vtensor without q0\n",
    "\n",
    "def Vtensor_calc(phase_list):\n",
    "\n",
    "    len_phase = len(phase_list)\n",
    "\n",
    "    Vtensor0 = {}\n",
    "\n",
    "    for j_ in range(len_phase):\n",
    "        for k_ in range(len_phase):\n",
    "\n",
    "            [s1,l1,j1] = phase_list[j_]\n",
    "            [s2,l2,j2] = phase_list[k_]\n",
    "\n",
    "            Vtemp = V_one_pion(s1,l1,j1,s2,l2,j2)\n",
    "\n",
    "            for key in Vtemp:\n",
    "                Vtensor0[key] = Vtemp[key]\n",
    "\n",
    "    return Vtensor0\n",
    "\n",
    "# Vtensor with q0 (so that when we change q0, we only need to do this code.)\n",
    "\n",
    "def Vtensor_q0_calc(phase_list,Vtensor0,q0):\n",
    "\n",
    "    len_phase = len(phase_list)\n",
    "\n",
    "    Vtensor = {}\n",
    "\n",
    "    for j_ in range(len_phase):\n",
    "        for k_ in range(len_phase):\n",
    "\n",
    "            Vtemp = {}\n",
    "\n",
    "            [s1,l1,j1] = phase_list[j_]\n",
    "            [s2,l2,j2] = phase_list[k_]\n",
    "\n",
    "            Vtemp = V_one_pion_q0(s1,l1,j1,s2,l2,j2,{},q0)\n",
    "\n",
    "            for key in Vtemp:\n",
    "                Vtensor[key] = Vtemp[key]\n",
    "    \n",
    "    for key in Vtensor0:\n",
    "        Vtensor[key] = Vtensor0[key]\n",
    "\n",
    "    return Vtensor"
   ]
  },
  {
   "cell_type": "code",
   "execution_count": 43,
   "id": "3c7a2fcc",
   "metadata": {},
   "outputs": [
    {
     "name": "stdout",
     "output_type": "stream",
     "text": [
      "[[0, 0, 0], [1, 1, 0]]\n",
      "Vtensor0:\n",
      "   s1  l1  j1  s2  l2  j2  p_grid 1  p_grid 2                 value\n",
      "0   1   0   1   1   0   1         0         0  4.650e-13 + i 0.e+00\n",
      "1   1   0   1   1   0   1         0         1  6.692e-12 + i 0.e+00\n",
      "2   1   0   1   1   0   1         0         2   3.93e-11 + i 0.e+00\n",
      "3   1   0   1   1   0   1         0         3  1.351e-10 + i 0.e+00\n",
      "4   1   0   1   1   0   1         0         4  3.478e-10 + i 0.e+00\n",
      "\n",
      " len =  25600\n",
      "\n",
      "----------------------------\n",
      "\n",
      "Vtensor:\n",
      "   s1  l1  j1  s2  l2  j2  p_grid 1  p_grid 2                 value\n",
      "0   1   0   1   1   0   1         0         0  4.650e-13 + i 0.e+00\n",
      "1   1   0   1   1   0   1         0         1  6.692e-12 + i 0.e+00\n",
      "2   1   0   1   1   0   1         0         2   3.93e-11 + i 0.e+00\n",
      "3   1   0   1   1   0   1         0         3  1.351e-10 + i 0.e+00\n",
      "4   1   0   1   1   0   1         0         4  3.478e-10 + i 0.e+00\n",
      "\n",
      " len =  25921\n"
     ]
    }
   ],
   "source": [
    "# Example\n",
    "\n",
    "phase_list=phase_dict[0]\n",
    "print(phase_list)\n",
    "\n",
    "\n",
    "print('Vtensor0:')\n",
    "Vtensor0 = V_one_pion(s1,l1,j1,s2,l2,j2)\n",
    "\n",
    "print_(Vtensor0)\n",
    "print('\\n len = ',len(Vtensor0.keys()))\n",
    "\n",
    "print('\\n----------------------------\\n')\n",
    "\n",
    "print('Vtensor:')\n",
    "Vtensor = V_one_pion_q0(s1,l1,j1,s2,l2,j2,Vtensor0,q0=10)\n",
    "\n",
    "print_(Vtensor)\n",
    "print('\\n len = ',len(Vtensor))"
   ]
  },
  {
   "cell_type": "markdown",
   "id": "ccb6ee1c",
   "metadata": {},
   "source": [
    "##  $V_{(N_p+1)\\times(N_p+1)}$\n",
    "where,\n",
    "$V(p',p) \\rightarrow e^{-p^4/\\Lambda^4}(V_{1\\pi} + C_0 V_{ct})e^{-p^{'4}/\\Lambda^4}$"
   ]
  },
  {
   "cell_type": "code",
   "execution_count": 55,
   "id": "063060f2",
   "metadata": {},
   "outputs": [],
   "source": [
    "# introducing the regulator and addting the LO strong contact term\n",
    "\n",
    "def pot_lambda(Vtensor,C0,lam):\n",
    "\n",
    "    v_keys = Vtensor.keys()\n",
    "\n",
    "    V_lambda_tensor = {}\n",
    "\n",
    "    count = 0\n",
    "    for elem in v_keys:\n",
    "\n",
    "        [s1, l1, j1, s2, l2, j2, i1, i2] = elem \n",
    "        j2 = j1  \n",
    "        \n",
    "        if [s1,l1,j1] == [0,0,0] and [s2,l2,j2] == [0,0,0]:     # 1S0-1S0\n",
    "            sum1 =   ( C0/( (2 * pi)**3 ))\n",
    "\n",
    "        elif [s1,l1,j1] == [1,0,1] and [s2,l2,j2] == [1,0,1]:   # 3S1-3S1\n",
    "            sum1 =   ( C0/(  (2 * pi)**3 ))\n",
    "\n",
    "        elif [s1,l1,j1] == [1,1,0] and [s2,l2,j2] == [1,1,0]:   # 3P0-3P0\n",
    "            sum1 =    (\n",
    "                        ( C0/( 4 *(2 * pi)**3 ))\n",
    "                        * pgrid[i1]\n",
    "                        * pgrid[i2]\n",
    "                    )\n",
    "\n",
    "        elif [s1,l1,j1] == [1,1,2] and [s2,l2,j2] == [1,1,2]:   # 3P2-3P2\n",
    "            sum1 =    (\n",
    "                        ( C0/( 4 *(2 * pi)**3 ))\n",
    "                        * pgrid[i1]\n",
    "                        * pgrid[i2]\n",
    "                    )\n",
    "\n",
    "        elif [s1,l1,j1] == [1,2,2] and [s2,l2,j2] == [1,2,2]:   # 3D2-3D2\n",
    "            sum1 =    (\n",
    "                        C0 * (2 * pi)**-3\n",
    "                        * pgrid[i1]**2\n",
    "                        * pgrid[i2]**2\n",
    "                    )\n",
    "\n",
    "        else:\n",
    "            sum1 = 0\n",
    "            \n",
    "#         print(elem, exp( -(pgrid[i1]/ (lam * hc) )**4 ) * exp( -(pgrid[i2]/ (lam * hc) )**4 ),sum1)\n",
    "\n",
    "        V_lambda_tensor[elem] = (\n",
    "                                    exp( -(pgrid[i1]/ (lam * hc) )**4 )\n",
    "                                    *   (\n",
    "                                            Vtensor[elem]*0 + sum1 \n",
    "                                        )\n",
    "                                    * exp( -(pgrid[i2]/ (lam * hc) )**4 )\n",
    "                                )\n",
    "                                \n",
    "    \n",
    "    return V_lambda_tensor"
   ]
  },
  {
   "cell_type": "code",
   "execution_count": 57,
   "id": "9b402442",
   "metadata": {},
   "outputs": [
    {
     "name": "stdout",
     "output_type": "stream",
     "text": [
      "Vtensor \n",
      "\n",
      "\n",
      "   s1  l1  j1  s2  l2  j2  p_grid 1  p_grid 2                 value\n",
      "0   1   0   1   1   0   1         0         0  4.650e-13 + i 0.e+00\n",
      "1   1   0   1   1   0   1         0         1  6.692e-12 + i 0.e+00\n",
      "2   1   0   1   1   0   1         0         2   3.93e-11 + i 0.e+00\n",
      "3   1   0   1   1   0   1         0         3  1.351e-10 + i 0.e+00\n",
      "4   1   0   1   1   0   1         0         4  3.478e-10 + i 0.e+00\n",
      "\n",
      "Vtensor with C0 = 100, lambda = inf \n",
      "\n",
      "\n",
      "   s1  l1  j1  s2  l2  j2  p_grid 1  p_grid 2                 value\n",
      "0   1   0   1   1   0   1         0         0  2.278e-07 + i 0.e+00\n",
      "1   1   0   1   1   0   1         0         1  2.278e-07 + i 0.e+00\n",
      "2   1   0   1   1   0   1         0         2  2.278e-07 + i 0.e+00\n",
      "3   1   0   1   1   0   1         0         3  2.278e-07 + i 0.e+00\n",
      "4   1   0   1   1   0   1         0         4  2.278e-07 + i 0.e+00\n"
     ]
    }
   ],
   "source": [
    "# Example\n",
    "\n",
    "Vtensor_lam = pot_lambda(Vtensor,C0=2.2* hc**-2,lam=52 )\n",
    "\n",
    "print('Vtensor','\\n\\n')\n",
    "print_(Vtensor)\n",
    "print()\n",
    "print('Vtensor with C0 = {:}, lambda = {:}'.format(100,np.infty),'\\n\\n')\n",
    "print_(Vtensor_lam)"
   ]
  },
  {
   "cell_type": "code",
   "execution_count": null,
   "id": "0f4954c7",
   "metadata": {},
   "outputs": [],
   "source": []
  }
 ],
 "metadata": {
  "kernelspec": {
   "display_name": "Python 3 (ipykernel)",
   "language": "python",
   "name": "python3"
  },
  "language_info": {
   "codemirror_mode": {
    "name": "ipython",
    "version": 3
   },
   "file_extension": ".py",
   "mimetype": "text/x-python",
   "name": "python",
   "nbconvert_exporter": "python",
   "pygments_lexer": "ipython3",
   "version": "3.7.13"
  }
 },
 "nbformat": 4,
 "nbformat_minor": 5
}
