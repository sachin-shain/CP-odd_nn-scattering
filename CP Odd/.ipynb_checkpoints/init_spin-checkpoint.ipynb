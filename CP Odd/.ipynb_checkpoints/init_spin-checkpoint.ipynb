{
 "cells": [
  {
   "cell_type": "markdown",
   "metadata": {},
   "source": [
    "<center> <h1>Creating essential functions and classes</h1> </center>\n",
    "\n",
    "---"
   ]
  },
  {
   "cell_type": "code",
   "execution_count": 2,
   "metadata": {},
   "outputs": [],
   "source": [
    "from cmath import  exp,  phase\n",
    "from contextlib import redirect_stderr\n",
    "import numpy as np\n",
    "from math import pi, log, sqrt, sin , cos, tan, asin, acos, atan, atanh\n",
    "from scipy.integrate import quad, dblquad\n",
    "from sympy.physics.wigner import wigner_9j, wigner_3j, clebsch_gordan\n",
    "from sympy import Symbol , S\n",
    "from decimal import *\n",
    "# from scipy import integrate\n",
    "# from decimal import Decimal\n",
    "from scipy.special import sph_harm \n",
    "from math import factorial as fact\n",
    "# from mom_mesh import trns as mom_grid\n",
    "import matplotlib.pyplot as plt\n",
    "import time\n",
    "import pandas as pd\n",
    "\"\"\"Numerical integration mesh routines\n",
    "\"\"\"\n",
    "from typing import Tuple\n",
    "from numpy.polynomial.legendre import leggauss\n",
    "from random import random\n",
    "\n",
    "from itertools import islice\n",
    "from os.path import exists\n",
    "\n",
    "from copy import deepcopy\n",
    "\n",
    "%matplotlib inline"
   ]
  },
  {
   "cell_type": "markdown",
   "metadata": {},
   "source": [
    "## constants"
   ]
  },
  {
   "cell_type": "code",
   "execution_count": 3,
   "metadata": {},
   "outputs": [],
   "source": [
    "# mass constants (MeV)\n",
    "m_proton    = 938.2720\n",
    "m_neutron   = 939.5653\n",
    "mpi         = 139.5702\n",
    "mu          = (m_proton * m_neutron)/(m_proton + m_neutron)\n",
    "m_n         =  2 * (m_proton * m_neutron)/(m_proton + m_neutron)\n",
    "\n",
    "gA  = 1.27\n",
    "fpi = 92.4\n",
    "g0,epsilon  = 1.0 , 10**-4\n",
    "\n",
    "# unit conversion constants\n",
    "hc = 197.327052\n",
    "\n",
    "# to create angle and momentum grids\n",
    "n_angle,n1, n2, p1, p2, p3, q0 = 15, 80, 80, 150,650, 10300, 100\n",
    "# n_angle,n1, n2, p1, p2, p3, q0 = 15, 10, 10, 150,650, 10300, 100\n",
    "\n",
    "\n",
    "cpv_c0_choice = 1\n"
   ]
  },
  {
   "cell_type": "markdown",
   "metadata": {},
   "source": [
    "### wigner 9-j symbols\n"
   ]
  },
  {
   "cell_type": "code",
   "execution_count": 4,
   "metadata": {},
   "outputs": [],
   "source": [
    "class W9J:\n",
    "    _cache = {}\n",
    "\n",
    "    def __call__(self, *args):\n",
    "        res = self._cache.get(args, None)  # return None if args keyword does not exist\n",
    "        if res is None:\n",
    "            res =  float(wigner_9j(*[S(i)  for i in args]))\n",
    "            self._cache[args] = res\n",
    "        \n",
    "        return res\n",
    "\n",
    "'''\n",
    "w9j(\n",
    "     j1, j2, j3,\n",
    "     j4, j5, j6,\n",
    "     j7, j8, j9\n",
    ")\n",
    "'''\n",
    "w9j = W9J()"
   ]
  },
  {
   "cell_type": "code",
   "execution_count": 5,
   "metadata": {},
   "outputs": [],
   "source": [
    "# Example\n",
    "\n",
    "# w9j(1,1,2,1,1,0,2,2,2)"
   ]
  },
  {
   "cell_type": "markdown",
   "metadata": {},
   "source": [
    "### wigner 3-j symbols\n"
   ]
  },
  {
   "cell_type": "code",
   "execution_count": 6,
   "metadata": {},
   "outputs": [],
   "source": [
    "class W3J:\n",
    "    _cache = {}\n",
    "\n",
    "    def __call__(self, *args):\n",
    "        res = self._cache.get(args, None)  # return None if args keyword does not exist\n",
    "        if res is None:\n",
    "            res = float(wigner_3j(*[S(i)  for i in args]))\n",
    "            self._cache[args] = res\n",
    "        \n",
    "        return res\n",
    "\n",
    "'''\n",
    "w3j(\n",
    "     j1, j2, j3,\n",
    "     m1, m2, m3\n",
    ")\n",
    "'''\n",
    "w3j = W3J()"
   ]
  },
  {
   "cell_type": "code",
   "execution_count": 7,
   "metadata": {},
   "outputs": [],
   "source": [
    "# Example\n",
    "\n",
    "# w3j(1/2,1/2,1,1/2,1/2,-1)"
   ]
  },
  {
   "cell_type": "markdown",
   "metadata": {},
   "source": [
    "### Clebsh-gorden coefficients"
   ]
  },
  {
   "cell_type": "code",
   "execution_count": 8,
   "metadata": {},
   "outputs": [],
   "source": [
    "class ClebschGordan:\n",
    "    _cache = {}\n",
    "\n",
    "    def __call__(self, *args):\n",
    "        res = self._cache.get(args, None)\n",
    "        if res is None:\n",
    "            res = float(clebsch_gordan(*[S(i)  for i in args]))\n",
    "            self._cache[args] = res\n",
    "            \n",
    "        return res\n",
    "\n",
    "#   coeff(j1,j2,J,m1,m2,M)\n",
    "\n",
    "coeff = ClebschGordan()"
   ]
  },
  {
   "cell_type": "code",
   "execution_count": 9,
   "metadata": {},
   "outputs": [],
   "source": [
    "# Example\n",
    "\n",
    "# coeff(1/2,1/2,0,1/2,-1/2,0)"
   ]
  },
  {
   "cell_type": "markdown",
   "metadata": {},
   "source": [
    "### print in scientific notation"
   ]
  },
  {
   "cell_type": "code",
   "execution_count": 10,
   "metadata": {},
   "outputs": [],
   "source": [
    "def format_e(n, pre = 2, exp_dig = 2):\n",
    "    n = complex(n)\n",
    "    print(np.format_float_scientific(n.real, precision = pre, exp_digits=exp_dig),end=' + ')\n",
    "    print(np.format_float_scientific(n.imag, precision = pre, exp_digits=exp_dig),end=' i\\n')"
   ]
  },
  {
   "cell_type": "code",
   "execution_count": 11,
   "metadata": {},
   "outputs": [],
   "source": [
    "# Example\n",
    "\n",
    "# format_e(12.34567)"
   ]
  },
  {
   "cell_type": "markdown",
   "metadata": {},
   "source": [
    "### round of numbers in a list"
   ]
  },
  {
   "cell_type": "code",
   "execution_count": 12,
   "metadata": {},
   "outputs": [],
   "source": [
    "def round_n(list1,n=3):\n",
    "    \n",
    "    def round_(l1,n=3):\n",
    "        lround = []\n",
    "\n",
    "        for elem in l1:\n",
    "            if type(elem) != str :\n",
    "                elem_imag = round(elem.imag,n)\n",
    "                \n",
    "                if elem_imag == 0:\n",
    "                    \n",
    "                    lround.append(float(round(elem.real,n)))\n",
    "                else:\n",
    "                    lround.append(round(elem.real,n)+ elem_imag*1j)\n",
    "\n",
    "            else:\n",
    "                lround.append(elem)\n",
    "        return lround\n",
    "    if type(list1)==list:\n",
    "        list1 = np.matrix(list1)\n",
    "    \n",
    "    row, col = list1.shape\n",
    "    \n",
    "    rlist = []\n",
    "    \n",
    "    l1 = np.matrix.tolist(list1)\n",
    "    \n",
    "    for i in range(row):\n",
    "            rlist.append(round_(l1[i],n))\n",
    "    return np.matrix(rlist)\n",
    "     "
   ]
  },
  {
   "cell_type": "code",
   "execution_count": 13,
   "metadata": {},
   "outputs": [],
   "source": [
    "# # Example\n",
    "\n",
    "# def row():\n",
    "#     return [100*random() + 100*random()*1j for i in range(2)]\n",
    "\n",
    "# m1 =  np.matrix([row(),row()])\n",
    "# m2 = [row(),row()]\n",
    "\n",
    "# print('m1:\\n',m1,'\\n---------\\n',round_n(m1),'\\n================\\n')\n",
    "# print('m2:\\n',m2,'\\n---------\\n',round_n(m2),'\\n================\\n')\n"
   ]
  },
  {
   "cell_type": "markdown",
   "metadata": {},
   "source": [
    "### remove the exponential part: $ a \\times 10^b \\rightarrow [a,b]$"
   ]
  },
  {
   "cell_type": "code",
   "execution_count": 14,
   "metadata": {
    "scrolled": true
   },
   "outputs": [],
   "source": [
    "def expo_power(n):\n",
    "    a       = '%E' % n\n",
    "    return a.split('E')"
   ]
  },
  {
   "cell_type": "code",
   "execution_count": 15,
   "metadata": {},
   "outputs": [],
   "source": [
    "# # Example\n",
    "\n",
    "# expo_power(12.3456)"
   ]
  },
  {
   "cell_type": "markdown",
   "metadata": {},
   "source": [
    "### equate a and b within precision $\\delta = 10^{-12}$"
   ]
  },
  {
   "cell_type": "code",
   "execution_count": 16,
   "metadata": {},
   "outputs": [],
   "source": [
    "def equal(a, b,delta=10 ** -12): \n",
    "    return np.isclose(a,b,atol = delta, rtol = 0.0)"
   ]
  },
  {
   "cell_type": "code",
   "execution_count": 17,
   "metadata": {},
   "outputs": [],
   "source": [
    "# Example\n",
    "\n",
    "a = 1.9 *10 ** -12\n",
    "b = 2.1 * 10 ** -12\n",
    "\n",
    "# print(equal(a,b))\n",
    "\n",
    "del a,b"
   ]
  },
  {
   "cell_type": "markdown",
   "metadata": {},
   "source": [
    "### $\\hat{a} = 2 a + 1$"
   ]
  },
  {
   "cell_type": "code",
   "execution_count": 18,
   "metadata": {},
   "outputs": [],
   "source": [
    "def h(a):\n",
    "    return 2*a + 1"
   ]
  },
  {
   "cell_type": "markdown",
   "metadata": {},
   "source": [
    "### $\\delta_{a,b} $\n"
   ]
  },
  {
   "cell_type": "code",
   "execution_count": 19,
   "metadata": {},
   "outputs": [],
   "source": [
    "def kron(a,b): \n",
    "    return (1 if a==b else 0)"
   ]
  },
  {
   "cell_type": "markdown",
   "metadata": {},
   "source": [
    "### Melement = $\\langle l' m_l'| S_{a =1,2,3}|l m_l \\rangle$.\n",
    "\n",
    "note that:\n",
    "$$ S_x = \\frac{T_{-1}^1-T_{+1}^1}{\\sqrt{2}}$$\n",
    "$$ S_y = -\\frac{T_{-1}^1+T_{+1}^1}{\\sqrt{2}i}$$\n",
    "$$ S_z = T_{0}^1$$\n",
    "and\n",
    "$$\\langle l' m_l'| S_{a =1,2,3}|l m_l \\rangle = \\langle l m_l, 1 (\\pm,0)| l' m_l' \\rangle \\langle l' || T^1 ||l \\rangle$$"
   ]
  },
  {
   "cell_type": "markdown",
   "metadata": {},
   "source": [
    "$$\n",
    "\\frac{1}{2}\n",
    "$$"
   ]
  },
  {
   "cell_type": "code",
   "execution_count": 20,
   "metadata": {},
   "outputs": [],
   "source": [
    "def Melement(lp, mlp, a, l, ml):\n",
    "    def e(L,M,p):\n",
    "        return  sqrt( L*(L+1) - M*(M+p)  )\n",
    "\n",
    "     \n",
    "    if a==1 :\n",
    "        ans= 1/2 * ( e(l,ml,1)* kron(mlp,ml+1) \n",
    "            + e(l,ml,-1) * kron(mlp,ml-1)  )\n",
    "    elif a==2 :\n",
    "        ans= (1/2j )* ( e(l,ml,1)* kron(mlp,ml+1) \n",
    "            - e(l,ml,-1) * kron(mlp,ml-1)  )\n",
    "    elif a==3 :\n",
    "        ans= ml *kron(ml,mlp)\n",
    "        \n",
    "    return complex(ans * kron(l,lp))\n"
   ]
  },
  {
   "cell_type": "code",
   "execution_count": 21,
   "metadata": {},
   "outputs": [],
   "source": [
    "# Example\n",
    "\n",
    "# Melement(1, 0, 1, 1, 1)"
   ]
  },
  {
   "cell_type": "markdown",
   "metadata": {},
   "source": [
    "### spin states"
   ]
  },
  {
   "cell_type": "code",
   "execution_count": 22,
   "metadata": {},
   "outputs": [],
   "source": [
    "#spin 1/2 states\n",
    "spin_half = [-1/2,1/2]\n",
    "\n",
    "#spin 1 states\n",
    "spin_one = [ -1, 0 , 1]"
   ]
  },
  {
   "cell_type": "markdown",
   "metadata": {},
   "source": [
    "### Spherical harmonics"
   ]
  },
  {
   "cell_type": "code",
   "execution_count": 23,
   "metadata": {},
   "outputs": [],
   "source": [
    "def ylm(l,m,theta,phi):\n",
    "    ans     = 0\n",
    "\n",
    "    if abs(m)<=l and l>=0 :\n",
    "        ans = sph_harm(m,l,phi,theta)\n",
    "\n",
    "    return ans "
   ]
  },
  {
   "cell_type": "code",
   "execution_count": 24,
   "metadata": {},
   "outputs": [],
   "source": [
    "# ylm(0,0,0,0)/(1 / (2 * sqrt(pi)))"
   ]
  },
  {
   "cell_type": "markdown",
   "metadata": {},
   "source": [
    "### angular grid"
   ]
  },
  {
   "cell_type": "code",
   "execution_count": 25,
   "metadata": {},
   "outputs": [],
   "source": [
    "# angular grid\n",
    "xgrid, wx = np.polynomial.legendre.leggauss(n_angle)"
   ]
  },
  {
   "cell_type": "code",
   "execution_count": 26,
   "metadata": {},
   "outputs": [],
   "source": [
    "# list1=[float('%4.1f' % xgrid[i].real) for i in range(len(xgrid))]\n",
    "\n",
    "# A1=pd.DataFrame(list1,columns=['Angles'])\n",
    "# A1.hist(bins=7,column='Angles')\n",
    "# del A1, list1"
   ]
  },
  {
   "cell_type": "markdown",
   "metadata": {},
   "source": [
    "### Momentum grid"
   ]
  },
  {
   "cell_type": "code",
   "execution_count": 27,
   "metadata": {},
   "outputs": [],
   "source": [
    "def mom_grid(  # pylint: disable=C0103\n",
    "    n1: int = 10, n2 : int= 20, p1: float = 1.0, p2: float = 6.0, p3: float = 20.0\n",
    ") -> Tuple[np.ndarray, np.ndarray]:\n",
    "    r\"\"\"Allocates transformed Gauss-Legendre mesh for numerical integration.\n",
    "\n",
    "    The total interval spans from p0 = 0.0 to p3. The points are distributed as follows:\n",
    "\n",
    "    * n1 / 2 points in (p0, p1)\n",
    "    * n1 / 2 points in (p1, p2)\n",
    "    * n2  points in (p2, p3)\n",
    "\n",
    "    The (p0, p2) interval follows the hyperbolic transformation\n",
    "    $$\n",
    "    x\\_1 \\\\to\n",
    "    \\\\frac{1 + x\\_1}\n",
    "    {\\\\frac{1}{p\\_1} - x\\_1\\\\left(\\\\frac{1}{p\\_1} -\\\\frac{1}{p\\_2} \\\\right)}\n",
    "    $$\n",
    "\n",
    "    and the (p1, p2) interval follows the linear transformation\n",
    "    $$ x\\_2 \\\\to \\\\frac{p\\_3 + p\\_2}{2} + x\\_2 \\\\frac{p\\_3 - p\\_2}{2}$$\n",
    "\n",
    "\n",
    "    **Arguments**\n",
    "        n1: int\n",
    "            Number of meshpoints for first interval (hyperbolic transformation).\n",
    "\n",
    "        n2: int\n",
    "            Number of meshpoints for second interval (linear transformation).\n",
    "\n",
    "        p1: float = 1.0\n",
    "            Middle point (defined by number of points) of first interval.\n",
    "\n",
    "        p2: float = 6.0\n",
    "            End point of first interval.\n",
    "\n",
    "        p3: float = 20.0\n",
    "            End point of second interval.\n",
    "\n",
    "    **Returns**\n",
    "        p, wp: Tuple[np.ndarray, np.ndarray]\n",
    "            The meshpoints and the integration weights.\n",
    "\n",
    "    .. note:: This routine follows Andreas Nogga's implementation of the TRNS routine.\n",
    "    \"\"\"\n",
    "    x = []\n",
    "    wx = []\n",
    "\n",
    "    xtmp, wtmp = leggauss(n1)\n",
    "    for xi, wi in zip(xtmp, wtmp):\n",
    "        xxi = 1 / p1 - (1 / p1 - 2 / p2) * xi\n",
    "        x.append((1 + xi) / xxi)\n",
    "        wx.append((2 / p1 - 2 / p2) * wi / xxi ** 2)\n",
    "\n",
    "    xtmp, wtmp = leggauss(n2)\n",
    "    p23 = (p3 - p2) / 2\n",
    "    P23 = (p3 + p2) / 2\n",
    "    for xi, wi in zip(xtmp, wtmp):\n",
    "        x.append(P23 + p23 * xi)\n",
    "        wx.append(p23 * wi)\n",
    "\n",
    "    return np.array(x), np.array(wx)\n",
    "\n",
    "# momentum grid\n",
    "pgrid,  wp = mom_grid(n1, n2,p1,p2,p3)\n",
    "Np = len(pgrid)\n",
    "pgrid = np.append(pgrid,q0)"
   ]
  },
  {
   "cell_type": "code",
   "execution_count": 28,
   "metadata": {},
   "outputs": [],
   "source": [
    "# list1=[float('%4.1f' % pgrid[i].real) for i in range(len(pgrid))]\n",
    "\n",
    "# A1=pd.DataFrame(list1,columns=['Momentum'])\n",
    "# A1.hist(bins=30,column='Momentum')\n",
    "# del A1, list1"
   ]
  },
  {
   "cell_type": "markdown",
   "metadata": {},
   "source": [
    "### plotting graphs"
   ]
  },
  {
   "cell_type": "code",
   "execution_count": 29,
   "metadata": {},
   "outputs": [],
   "source": [
    "def display(x,y_all,label_xy=['x','y'],legend_y=['' for i in range(10)],vert_line=[10,False],save=['name',False]):\n",
    "\n",
    "    style=['-r','-b',':g','-.k','.m','--y','--navy','--grey','--orange','--deeppink']\n",
    "    \n",
    "\n",
    "    for i in range(len(y_all)):\n",
    "\n",
    "        plt.plot(x,y_all[i],style[i],label=legend_y[i])\n",
    "\n",
    "    plt.ylabel(label_xy[1])\n",
    "    plt.xlabel(label_xy[0])\n",
    "    if legend_y[0]!='':\n",
    "        plt.legend()\n",
    "        \n",
    "    if vert_line[1]:\n",
    "        plt.axvline(x = vert_line[0], color = 'k')\n",
    "    # plt.ylim(y_lim[0],y_lim[1])\n",
    "    # plt.xlim(x_lim[0],x_lim[1])\n",
    "    \n",
    "    if save[1]:\n",
    "        plt.savefig(save[0], format=\"pdf\", bbox_inches=\"tight\")\n",
    "    plt.show()"
   ]
  },
  {
   "cell_type": "code",
   "execution_count": 30,
   "metadata": {},
   "outputs": [],
   "source": [
    "# x = [i for i in range(50)]\n",
    "# y = [[i**2 for i in range(50)],[i**2.5 for i in range(50)]]\n",
    "\n",
    "# display(x,y,legend_y = ['y1','y2'],vert_line=[20,True])\n",
    "# del x,y"
   ]
  },
  {
   "cell_type": "markdown",
   "metadata": {},
   "source": [
    "### print first 10 rows of a dictionary"
   ]
  },
  {
   "cell_type": "code",
   "execution_count": 31,
   "metadata": {},
   "outputs": [],
   "source": [
    "def print_10(dict_,pre=3):\n",
    "    keys = list(islice(dict_.keys(),10))\n",
    "    \n",
    "    for key in keys:\n",
    "        print('{:32}'.format(str(key)),end='')\n",
    "        format_e(dict_[key],pre)"
   ]
  },
  {
   "cell_type": "code",
   "execution_count": 32,
   "metadata": {},
   "outputs": [],
   "source": [
    "# Example\n",
    "# dict_1 ={}\n",
    "# dict_1[1,0,1,1,0,1,2000,2000]=random()\n",
    "# for i in range(20):\n",
    "#     dict_1[i,2*i,3*i,4*i] = random() \n",
    "\n",
    "# print_10(dict_1)"
   ]
  },
  {
   "cell_type": "markdown",
   "metadata": {},
   "source": [
    "### Print in $^{2S+1}L_J$ format"
   ]
  },
  {
   "cell_type": "code",
   "execution_count": 33,
   "metadata": {},
   "outputs": [],
   "source": [
    "def phase_name(s,l,j):\n",
    "\n",
    "    if l==0:\n",
    "        orbit = 'S'\n",
    "    elif l==1:\n",
    "        orbit = 'P'\n",
    "    elif l==2:\n",
    "        orbit = 'D'\n",
    "    elif l==3:\n",
    "        orbit = 'F'\n",
    "    elif l==4:\n",
    "        orbit = 'G'\n",
    "    else:\n",
    "        orbit = 'X'\n",
    "\n",
    "    return '{:}{:}{:}'.format(2*s+1,orbit,j)"
   ]
  },
  {
   "cell_type": "markdown",
   "metadata": {},
   "source": [
    "### Read and write pot_even.csv"
   ]
  },
  {
   "cell_type": "code",
   "execution_count": 34,
   "metadata": {},
   "outputs": [],
   "source": [
    "class Vtensor_csv:\n",
    "    \n",
    "    def __init__(self):\n",
    "        \n",
    "        if exists('pot_total.csv'):\n",
    "\n",
    "            df_init = pd.read_csv('pot_total.csv',index_col=None)\n",
    "            d1 = df_init.to_dict('list')\n",
    "            \n",
    "            self.Vtensor_even_ref = {}\n",
    "            self.Vtensor_odd_ref = {}\n",
    "            \n",
    "            for i in range(len(d1['s1'])):\n",
    "                \n",
    "                self.Vtensor_even_ref[d1['s1'][i],d1['l1'][i],d1['j1'][i],d1['s2'][i],d1['l2'][i],d1['j2'][i],d1['p_grid '][i],d1['i2'][i]] = d1['pot_even'][i]\n",
    "\n",
    "                self.Vtensor_odd_ref[d1['s1'][i],d1['l1'][i],d1['j1'][i],d1['s2'][i],d1['l2'][i],d1['j2'][i],d1['i1'][i],d1['i2'][i]] = d1['pot_odd'][i]\n",
    "\n",
    "        else:\n",
    "            self.Vtensor_odd_ref = {}\n",
    "            self.Vtensor_even_ref = {}\n",
    "            \n",
    "    def d0_gen(self):\n",
    "        d0 = {}\n",
    "        d0['s1'] = []\n",
    "        d0['l1'] = []\n",
    "        d0['j1'] = []\n",
    "        d0['s2'] = []\n",
    "        d0['l2'] = []\n",
    "        d0['j2'] = []\n",
    "        d0['i1'] = []\n",
    "        d0['i2'] = []\n",
    "        d0['pot_even'] = []\n",
    "        d0['pot_odd'] = []\n",
    "        \n",
    "        return d0\n",
    "    \n",
    "    def read(self):\n",
    "        return [self.Vtensor_even_ref, self.Vtensor_odd_ref]\n",
    "    \n",
    "    \n",
    "    def write(self,Vtensor_even_dict,Vtensor_odd_dict):\n",
    "        \n",
    "        d1 = self.d0_gen()\n",
    "            \n",
    "        \n",
    "        key_odd = Vtensor_even_dict.keys()\n",
    "        key_even = Vtensor_odd_dict.keys()\n",
    "        \n",
    "        if len(key_odd) < len(key_even):\n",
    "            key_dict = key_odd\n",
    "        else:\n",
    "            key_dict = key_even\n",
    "            \n",
    "        for key in key_dict:\n",
    "            d1['s1'].append(key[0])\n",
    "            d1['l1'].append(key[1])\n",
    "            d1['j1'].append(key[2])\n",
    "            d1['s2'].append(key[3])\n",
    "            d1['l2'].append(key[4])\n",
    "            d1['j2'].append(key[5])\n",
    "            d1['i1'].append(key[6])\n",
    "            d1['i2'].append(key[7])\n",
    "            d1['pot_even'].append(Vtensor_even_dict[key])\n",
    "            d1['pot_odd'].append(Vtensor_odd_dict[key])\n",
    "\n",
    "        df1 = pd.DataFrame(d1)\n",
    "        df1.to_csv('pot_total.csv',index=False)\n",
    "        \n",
    "        print(pd.DataFrame(d1))\n",
    "        \n",
    "    def delete(self):\n",
    "        \n",
    "        d1 = self.d0_gen()\n",
    "    \n",
    "        df1 = pd.DataFrame(d1)\n",
    "        df1.to_csv('pot_total.csv',index=False)\n",
    "        \n",
    "    \n",
    "Vfile = Vtensor_csv()\n",
    "\n",
    "[Vtensor_even_ref, Vtensor_odd_ref]= Vfile.read()\n",
    "\n",
    "for key in Vtensor_odd_ref:\n",
    "    Vtensor_odd_ref[key] = complex(Vtensor_odd_ref[key])\n",
    "    "
   ]
  },
  {
   "cell_type": "code",
   "execution_count": 35,
   "metadata": {},
   "outputs": [],
   "source": [
    "# Vtensor_even_ref"
   ]
  },
  {
   "cell_type": "code",
   "execution_count": 36,
   "metadata": {},
   "outputs": [
    {
     "data": {
      "application/javascript": [
       "\n",
       "window.scroll_flag = true\n",
       "window.scroll_exit = false\n",
       "window.scroll_delay = 100\n",
       "\n",
       "$(\".output_scroll\").each(function() {\n",
       "    $(this)[0].scrollTop = $(this)[0].scrollHeight;\n",
       "});\n",
       "\n",
       "function callScrollToBottom() {\n",
       "    setTimeout(scrollToBottom, window.scroll_delay);\n",
       "}\n",
       "\n",
       "function scrollToBottom() {\n",
       "    if (window.scroll_exit) {\n",
       "        return;\n",
       "    }\n",
       "    if (!window.scroll_flag) {\n",
       "        callScrollToBottom();\n",
       "        return;\n",
       "    };\n",
       "    \n",
       "    $(\".output_scroll\").each(function() {\n",
       "        if (!$(this).attr('scroll_checkbox')){\n",
       "            window.scroll_flag = true;\n",
       "            $(this).attr('scroll_checkbox',true);\n",
       "            var div = document.createElement('div');\n",
       "            var checkbox = document.createElement('input');\n",
       "            checkbox.type = \"checkbox\";\n",
       "            checkbox.onclick = function(){window.scroll_flag = checkbox.checked}\n",
       "            checkbox.checked = \"checked\"\n",
       "            div.append(\"Auto-Scroll-To-Bottom: \");\n",
       "            div.append(checkbox);\n",
       "            $(this).parent().before(div);\n",
       "        }\n",
       "        \n",
       "        $(this)[0].scrollTop = $(this)[0].scrollHeight;\n",
       "    });\n",
       "    callScrollToBottom();\n",
       "}\n",
       "scrollToBottom();\n"
      ],
      "text/plain": [
       "<IPython.core.display.Javascript object>"
      ]
     },
     "metadata": {},
     "output_type": "display_data"
    }
   ],
   "source": [
    "%%javascript\n",
    "\n",
    "window.scroll_flag = true\n",
    "window.scroll_exit = false\n",
    "window.scroll_delay = 100\n",
    "\n",
    "$(\".output_scroll\").each(function() {\n",
    "    $(this)[0].scrollTop = $(this)[0].scrollHeight;\n",
    "});\n",
    "\n",
    "function callScrollToBottom() {\n",
    "    setTimeout(scrollToBottom, window.scroll_delay);\n",
    "}\n",
    "\n",
    "function scrollToBottom() {\n",
    "    if (window.scroll_exit) {\n",
    "        return;\n",
    "    }\n",
    "    if (!window.scroll_flag) {\n",
    "        callScrollToBottom();\n",
    "        return;\n",
    "    };\n",
    "    \n",
    "    $(\".output_scroll\").each(function() {\n",
    "        if (!$(this).attr('scroll_checkbox')){\n",
    "            window.scroll_flag = true;\n",
    "            $(this).attr('scroll_checkbox',true);\n",
    "            var div = document.createElement('div');\n",
    "            var checkbox = document.createElement('input');\n",
    "            checkbox.type = \"checkbox\";\n",
    "            checkbox.onclick = function(){window.scroll_flag = checkbox.checked}\n",
    "            checkbox.checked = \"checked\"\n",
    "            div.append(\"Auto-Scroll-To-Bottom: \");\n",
    "            div.append(checkbox);\n",
    "            $(this).parent().before(div);\n",
    "        }\n",
    "        \n",
    "        $(this)[0].scrollTop = $(this)[0].scrollHeight;\n",
    "    });\n",
    "    callScrollToBottom();\n",
    "}\n",
    "scrollToBottom();"
   ]
  },
  {
   "cell_type": "code",
   "execution_count": 39,
   "metadata": {},
   "outputs": [],
   "source": [
    "lambda_values = [round(i,2) for i in np.arange(2, 52.1,.1)]"
   ]
  },
  {
   "cell_type": "code",
   "execution_count": null,
   "metadata": {},
   "outputs": [],
   "source": []
  }
 ],
 "metadata": {
  "kernelspec": {
   "display_name": "Python 3 (ipykernel)",
   "language": "python",
   "name": "python3"
  },
  "language_info": {
   "codemirror_mode": {
    "name": "ipython",
    "version": 3
   },
   "file_extension": ".py",
   "mimetype": "text/x-python",
   "name": "python",
   "nbconvert_exporter": "python",
   "pygments_lexer": "ipython3",
   "version": "3.7.13"
  },
  "vscode": {
   "interpreter": {
    "hash": "3d831f84a963224349942d9e0b0fc8eb5d2b898284165732de07d954020c9468"
   }
  }
 },
 "nbformat": 4,
 "nbformat_minor": 2
}
